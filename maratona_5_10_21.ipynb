{
  "nbformat": 4,
  "nbformat_minor": 0,
  "metadata": {
    "colab": {
      "provenance": [],
      "include_colab_link": true
    },
    "kernelspec": {
      "name": "python3",
      "display_name": "Python 3"
    },
    "language_info": {
      "name": "python"
    },
    "widgets": {
      "application/vnd.jupyter.widget-state+json": {
        "2d05fa3d92f24b05b185547b73e87108": {
          "model_module": "@jupyter-widgets/controls",
          "model_name": "TextModel",
          "model_module_version": "1.5.0",
          "state": {
            "_dom_classes": [],
            "_model_module": "@jupyter-widgets/controls",
            "_model_module_version": "1.5.0",
            "_model_name": "TextModel",
            "_view_count": null,
            "_view_module": "@jupyter-widgets/controls",
            "_view_module_version": "1.5.0",
            "_view_name": "TextView",
            "continuous_update": true,
            "description": "Ritmo:",
            "description_tooltip": null,
            "disabled": false,
            "layout": "IPY_MODEL_a36102ab480243f9894e97d97440abe6",
            "placeholder": "Digite o ritmo (ex: 3:11)",
            "style": "IPY_MODEL_b17d44c25675425d8b856301bf3ef1aa",
            "value": ""
          }
        },
        "a36102ab480243f9894e97d97440abe6": {
          "model_module": "@jupyter-widgets/base",
          "model_name": "LayoutModel",
          "model_module_version": "1.2.0",
          "state": {
            "_model_module": "@jupyter-widgets/base",
            "_model_module_version": "1.2.0",
            "_model_name": "LayoutModel",
            "_view_count": null,
            "_view_module": "@jupyter-widgets/base",
            "_view_module_version": "1.2.0",
            "_view_name": "LayoutView",
            "align_content": null,
            "align_items": null,
            "align_self": null,
            "border": null,
            "bottom": null,
            "display": null,
            "flex": null,
            "flex_flow": null,
            "grid_area": null,
            "grid_auto_columns": null,
            "grid_auto_flow": null,
            "grid_auto_rows": null,
            "grid_column": null,
            "grid_gap": null,
            "grid_row": null,
            "grid_template_areas": null,
            "grid_template_columns": null,
            "grid_template_rows": null,
            "height": null,
            "justify_content": null,
            "justify_items": null,
            "left": null,
            "margin": null,
            "max_height": null,
            "max_width": null,
            "min_height": null,
            "min_width": null,
            "object_fit": null,
            "object_position": null,
            "order": null,
            "overflow": null,
            "overflow_x": null,
            "overflow_y": null,
            "padding": null,
            "right": null,
            "top": null,
            "visibility": null,
            "width": "200px"
          }
        },
        "b17d44c25675425d8b856301bf3ef1aa": {
          "model_module": "@jupyter-widgets/controls",
          "model_name": "DescriptionStyleModel",
          "model_module_version": "1.5.0",
          "state": {
            "_model_module": "@jupyter-widgets/controls",
            "_model_module_version": "1.5.0",
            "_model_name": "DescriptionStyleModel",
            "_view_count": null,
            "_view_module": "@jupyter-widgets/base",
            "_view_module_version": "1.2.0",
            "_view_name": "StyleView",
            "description_width": "initial"
          }
        },
        "3998b083d475487d8ed550a21455b11d": {
          "model_module": "@jupyter-widgets/controls",
          "model_name": "DropdownModel",
          "model_module_version": "1.5.0",
          "state": {
            "_dom_classes": [],
            "_model_module": "@jupyter-widgets/controls",
            "_model_module_version": "1.5.0",
            "_model_name": "DropdownModel",
            "_options_labels": [
              "5",
              "10",
              "21"
            ],
            "_view_count": null,
            "_view_module": "@jupyter-widgets/controls",
            "_view_module_version": "1.5.0",
            "_view_name": "DropdownView",
            "description": "Distância (km):",
            "description_tooltip": null,
            "disabled": false,
            "index": 0,
            "layout": "IPY_MODEL_d370863f301145f9909ec4f8d380dddc",
            "style": "IPY_MODEL_ce00e6d63a5e4331afbd53888a994783"
          }
        },
        "d370863f301145f9909ec4f8d380dddc": {
          "model_module": "@jupyter-widgets/base",
          "model_name": "LayoutModel",
          "model_module_version": "1.2.0",
          "state": {
            "_model_module": "@jupyter-widgets/base",
            "_model_module_version": "1.2.0",
            "_model_name": "LayoutModel",
            "_view_count": null,
            "_view_module": "@jupyter-widgets/base",
            "_view_module_version": "1.2.0",
            "_view_name": "LayoutView",
            "align_content": null,
            "align_items": null,
            "align_self": null,
            "border": null,
            "bottom": null,
            "display": null,
            "flex": null,
            "flex_flow": null,
            "grid_area": null,
            "grid_auto_columns": null,
            "grid_auto_flow": null,
            "grid_auto_rows": null,
            "grid_column": null,
            "grid_gap": null,
            "grid_row": null,
            "grid_template_areas": null,
            "grid_template_columns": null,
            "grid_template_rows": null,
            "height": null,
            "justify_content": null,
            "justify_items": null,
            "left": null,
            "margin": null,
            "max_height": null,
            "max_width": null,
            "min_height": null,
            "min_width": null,
            "object_fit": null,
            "object_position": null,
            "order": null,
            "overflow": null,
            "overflow_x": null,
            "overflow_y": null,
            "padding": null,
            "right": null,
            "top": null,
            "visibility": null,
            "width": "200px"
          }
        },
        "ce00e6d63a5e4331afbd53888a994783": {
          "model_module": "@jupyter-widgets/controls",
          "model_name": "DescriptionStyleModel",
          "model_module_version": "1.5.0",
          "state": {
            "_model_module": "@jupyter-widgets/controls",
            "_model_module_version": "1.5.0",
            "_model_name": "DescriptionStyleModel",
            "_view_count": null,
            "_view_module": "@jupyter-widgets/base",
            "_view_module_version": "1.2.0",
            "_view_name": "StyleView",
            "description_width": "initial"
          }
        },
        "e9f95354c1814de184e5364fbd5ac1ce": {
          "model_module": "@jupyter-widgets/controls",
          "model_name": "ButtonModel",
          "model_module_version": "1.5.0",
          "state": {
            "_dom_classes": [],
            "_model_module": "@jupyter-widgets/controls",
            "_model_module_version": "1.5.0",
            "_model_name": "ButtonModel",
            "_view_count": null,
            "_view_module": "@jupyter-widgets/controls",
            "_view_module_version": "1.5.0",
            "_view_name": "ButtonView",
            "button_style": "",
            "description": "📈 Calcular",
            "disabled": false,
            "icon": "",
            "layout": "IPY_MODEL_6990f221219644ecba34b2a82ca7ad7c",
            "style": "IPY_MODEL_1ec4a8472681454a959ae8cebcb59835",
            "tooltip": ""
          }
        },
        "6990f221219644ecba34b2a82ca7ad7c": {
          "model_module": "@jupyter-widgets/base",
          "model_name": "LayoutModel",
          "model_module_version": "1.2.0",
          "state": {
            "_model_module": "@jupyter-widgets/base",
            "_model_module_version": "1.2.0",
            "_model_name": "LayoutModel",
            "_view_count": null,
            "_view_module": "@jupyter-widgets/base",
            "_view_module_version": "1.2.0",
            "_view_name": "LayoutView",
            "align_content": null,
            "align_items": null,
            "align_self": null,
            "border": null,
            "bottom": null,
            "display": null,
            "flex": null,
            "flex_flow": null,
            "grid_area": null,
            "grid_auto_columns": null,
            "grid_auto_flow": null,
            "grid_auto_rows": null,
            "grid_column": null,
            "grid_gap": null,
            "grid_row": null,
            "grid_template_areas": null,
            "grid_template_columns": null,
            "grid_template_rows": null,
            "height": null,
            "justify_content": null,
            "justify_items": null,
            "left": null,
            "margin": null,
            "max_height": null,
            "max_width": null,
            "min_height": null,
            "min_width": null,
            "object_fit": null,
            "object_position": null,
            "order": null,
            "overflow": null,
            "overflow_x": null,
            "overflow_y": null,
            "padding": null,
            "right": null,
            "top": null,
            "visibility": null,
            "width": null
          }
        },
        "1ec4a8472681454a959ae8cebcb59835": {
          "model_module": "@jupyter-widgets/controls",
          "model_name": "ButtonStyleModel",
          "model_module_version": "1.5.0",
          "state": {
            "_model_module": "@jupyter-widgets/controls",
            "_model_module_version": "1.5.0",
            "_model_name": "ButtonStyleModel",
            "_view_count": null,
            "_view_module": "@jupyter-widgets/base",
            "_view_module_version": "1.2.0",
            "_view_name": "StyleView",
            "button_color": null,
            "font_weight": ""
          }
        },
        "dfe5baa2dc9a4123beda3c347734c1dd": {
          "model_module": "@jupyter-widgets/controls",
          "model_name": "ButtonModel",
          "model_module_version": "1.5.0",
          "state": {
            "_dom_classes": [],
            "_model_module": "@jupyter-widgets/controls",
            "_model_module_version": "1.5.0",
            "_model_name": "ButtonModel",
            "_view_count": null,
            "_view_module": "@jupyter-widgets/controls",
            "_view_module_version": "1.5.0",
            "_view_name": "ButtonView",
            "button_style": "",
            "description": "🧹 Limpar",
            "disabled": false,
            "icon": "",
            "layout": "IPY_MODEL_37d26cb77f694d45a7b6e1bb09d5be50",
            "style": "IPY_MODEL_4234bdbea6d04aacaaed2ed4653d85a1",
            "tooltip": ""
          }
        },
        "37d26cb77f694d45a7b6e1bb09d5be50": {
          "model_module": "@jupyter-widgets/base",
          "model_name": "LayoutModel",
          "model_module_version": "1.2.0",
          "state": {
            "_model_module": "@jupyter-widgets/base",
            "_model_module_version": "1.2.0",
            "_model_name": "LayoutModel",
            "_view_count": null,
            "_view_module": "@jupyter-widgets/base",
            "_view_module_version": "1.2.0",
            "_view_name": "LayoutView",
            "align_content": null,
            "align_items": null,
            "align_self": null,
            "border": null,
            "bottom": null,
            "display": null,
            "flex": null,
            "flex_flow": null,
            "grid_area": null,
            "grid_auto_columns": null,
            "grid_auto_flow": null,
            "grid_auto_rows": null,
            "grid_column": null,
            "grid_gap": null,
            "grid_row": null,
            "grid_template_areas": null,
            "grid_template_columns": null,
            "grid_template_rows": null,
            "height": null,
            "justify_content": null,
            "justify_items": null,
            "left": null,
            "margin": null,
            "max_height": null,
            "max_width": null,
            "min_height": null,
            "min_width": null,
            "object_fit": null,
            "object_position": null,
            "order": null,
            "overflow": null,
            "overflow_x": null,
            "overflow_y": null,
            "padding": null,
            "right": null,
            "top": null,
            "visibility": null,
            "width": null
          }
        },
        "4234bdbea6d04aacaaed2ed4653d85a1": {
          "model_module": "@jupyter-widgets/controls",
          "model_name": "ButtonStyleModel",
          "model_module_version": "1.5.0",
          "state": {
            "_model_module": "@jupyter-widgets/controls",
            "_model_module_version": "1.5.0",
            "_model_name": "ButtonStyleModel",
            "_view_count": null,
            "_view_module": "@jupyter-widgets/base",
            "_view_module_version": "1.2.0",
            "_view_name": "StyleView",
            "button_color": null,
            "font_weight": ""
          }
        },
        "a3b14732c7df432d83be137d92f4dcda": {
          "model_module": "@jupyter-widgets/output",
          "model_name": "OutputModel",
          "model_module_version": "1.0.0",
          "state": {
            "_dom_classes": [],
            "_model_module": "@jupyter-widgets/output",
            "_model_module_version": "1.0.0",
            "_model_name": "OutputModel",
            "_view_count": null,
            "_view_module": "@jupyter-widgets/output",
            "_view_module_version": "1.0.0",
            "_view_name": "OutputView",
            "layout": "IPY_MODEL_fb2e993843c647cca8739a220216d9d8",
            "msg_id": "",
            "outputs": []
          }
        },
        "fb2e993843c647cca8739a220216d9d8": {
          "model_module": "@jupyter-widgets/base",
          "model_name": "LayoutModel",
          "model_module_version": "1.2.0",
          "state": {
            "_model_module": "@jupyter-widgets/base",
            "_model_module_version": "1.2.0",
            "_model_name": "LayoutModel",
            "_view_count": null,
            "_view_module": "@jupyter-widgets/base",
            "_view_module_version": "1.2.0",
            "_view_name": "LayoutView",
            "align_content": null,
            "align_items": null,
            "align_self": null,
            "border": null,
            "bottom": null,
            "display": null,
            "flex": null,
            "flex_flow": null,
            "grid_area": null,
            "grid_auto_columns": null,
            "grid_auto_flow": null,
            "grid_auto_rows": null,
            "grid_column": null,
            "grid_gap": null,
            "grid_row": null,
            "grid_template_areas": null,
            "grid_template_columns": null,
            "grid_template_rows": null,
            "height": null,
            "justify_content": null,
            "justify_items": null,
            "left": null,
            "margin": null,
            "max_height": null,
            "max_width": null,
            "min_height": null,
            "min_width": null,
            "object_fit": null,
            "object_position": null,
            "order": null,
            "overflow": null,
            "overflow_x": null,
            "overflow_y": null,
            "padding": null,
            "right": null,
            "top": null,
            "visibility": null,
            "width": null
          }
        }
      }
    }
  },
  "cells": [
    {
      "cell_type": "markdown",
      "metadata": {
        "id": "view-in-github",
        "colab_type": "text"
      },
      "source": [
        "<a href=\"https://colab.research.google.com/github/daniballester-ai/regressao-linear-maratona-5-10-21/blob/main/maratona_5_10_21.ipynb\" target=\"_parent\"><img src=\"https://colab.research.google.com/assets/colab-badge.svg\" alt=\"Open In Colab\"/></a>"
      ]
    },
    {
      "cell_type": "markdown",
      "source": [
        "# 🏃‍♀️💨 **Análise de Dados de Corrida:**  Uma Abordagem Estatística 📊\n",
        "\n",
        "**Disciplina:**\n",
        "\n",
        "* Estatística para Ciência de Dados  \n",
        "\n",
        "**Professores:**\n",
        "\n",
        "* 👨‍🏫 Henrique Rocha de Medeiros\n",
        "\n",
        "* 👨‍🏫 Felipe Macedo Zumba\n",
        "<br>\n",
        "\n",
        "Esta análise tem como objetivo geral criar um perfil dos participantes de uma corrida, utilizando técnicas de estatística descritiva e inferencial, e aplicar conceitos de *machine learning* para prever o tempo final de corrida baseado no ritmo dos participantes.  A análise utilizará dados inspirados nos resultados da **Meia Maratona PRF 191 - Extraoficial - 2023**, disponíveis no site da Figueiredo Cronometragem ([https://figueiredoscronometragem.com.br/resultados/g-live.html?f=eventos/2023/MEIAPRF/CORRIDA.clax]).  \n",
        "\n",
        "Para esta análise, os dados foram baixados do site e uma planilha contendo informações consolidadas dos resultados das provas de 5km, 10km e 21km foi criada.  Esta planilha consolidada, já com tratamento de colunas (apenas as necessárias para esta análise), está disponível no arquivo \"maratona-5-10-21.csv\".\n",
        "<br>\n",
        "<br>\n",
        "\n",
        "**Objetivos Específicos:**\n",
        "\n",
        "* 🎯 **Perfil dos participantes:** Descrever a distribuição dos participantes de acordo com o sexo e a distância da prova **(5km, 10km e 21km**). Visualizaremos essa distribuição com tabelas e gráficos.\n",
        "<br>\n",
        "<br>\n",
        "* 🧐 **Comparação de frequências:** Verificar se existe diferença significativa na proporção de homens e mulheres em cada distância (5km, 10km e 21km) utilizando um teste de hipótese apropriado **(teste Qui-quadrado)**.\n",
        "<br>\n",
        "<br>\n",
        "* 🧮 **Modelagem preditiva:** Construir três modelos de regressão linear, um para cada distância **(5km, 10km e 21km)**, para prever o tempo total de corrida com base no ritmo individual dos corredores. Avaliaremos a qualidade de cada modelo através de métricas como o erro quadrático médio **(MSE)** e o R-quadrado **(R²)**.\n",
        "<br>\n",
        "<br>\n",
        "* 🤖 **Predição interativa:** Desenvolver uma aplicação que permita ao usuário inserir o ritmo e a distância da corrida para obter uma estimativa do tempo final, utilizando os modelos de regressão linear construídos.\n",
        "\n",
        "\n",
        "<br>\n",
        "A seguir, apresentaremos a análise passo a passo, com código em Python para ser executado no Google Colab, utilizando os dados do arquivo \"maratona-5-10-21.csv\".\n",
        "<br>\n",
        "<br>"
      ],
      "metadata": {
        "id": "vO3sSgYPzACT"
      }
    },
    {
      "cell_type": "markdown",
      "source": [
        "##1. 📚 Importação de bibliotecas e leitura dos dados 📚\n",
        "Vamos importar as bibliotecas necessárias para a análise de dados e a regressão linear, e ler o arquivo CSV para um DataFrame Pandas."
      ],
      "metadata": {
        "id": "wWM0XWDP8clN"
      }
    },
    {
      "cell_type": "code",
      "execution_count": 4,
      "metadata": {
        "id": "XzG9m0XI8R_0"
      },
      "outputs": [],
      "source": [
        "# Importação das bibliotecas\n",
        "import pandas as pd\n",
        "import numpy as np\n",
        "import matplotlib.pyplot as plt\n",
        "from scipy.stats import chi2_contingency\n",
        "from sklearn.linear_model import LinearRegression\n",
        "from sklearn.model_selection import train_test_split\n",
        "from sklearn.metrics import mean_squared_error, r2_score\n",
        "import ipywidgets as widgets\n",
        "from IPython.display import display, clear_output\n",
        "from ipywidgets import Layout, HTML"
      ]
    },
    {
      "cell_type": "code",
      "source": [
        "# montando o drive\n",
        "from google.colab import drive\n",
        "drive.mount('/content/drive')\n"
      ],
      "metadata": {
        "colab": {
          "base_uri": "https://localhost:8080/"
        },
        "id": "6suAkxSeBKN-",
        "outputId": "adfd466e-f9a1-435e-f8f9-b33658f3d147"
      },
      "execution_count": 5,
      "outputs": [
        {
          "output_type": "stream",
          "name": "stdout",
          "text": [
            "Drive already mounted at /content/drive; to attempt to forcibly remount, call drive.mount(\"/content/drive\", force_remount=True).\n"
          ]
        }
      ]
    },
    {
      "cell_type": "code",
      "source": [
        "# Lendo o arquivo CSV\n",
        "df = pd.read_csv('/content/drive/MyDrive/Colab Notebooks/Maratona/maratona-5-10-21.csv', sep=';') #Atualize o caminho para o seu diretório\n",
        "df.head()"
      ],
      "metadata": {
        "colab": {
          "base_uri": "https://localhost:8080/",
          "height": 206
        },
        "id": "SAuAko2cBXj8",
        "outputId": "0c8ba610-3cb6-46ee-c9bb-cbf67ffb0b23"
      },
      "execution_count": 6,
      "outputs": [
        {
          "output_type": "execute_result",
          "data": {
            "text/plain": [
              "        Sexo Categoria Tempo Final  Ritmo  Distancia\n",
              "0  Masculino     5K-GM  0:15:56.07  03:11          5\n",
              "1  Masculino     5K-GM  0:15:57.92  03:11          5\n",
              "2  Masculino     5K-GM  0:16:08.06  03:14          5\n",
              "3  Masculino     5K-GM  0:16:14.83  03:15          5\n",
              "4  Masculino     5K-GM  0:16:30.94  03:18          5"
            ],
            "text/html": [
              "\n",
              "  <div id=\"df-afcddb5c-3871-40e5-a42c-9b0907ffe725\" class=\"colab-df-container\">\n",
              "    <div>\n",
              "<style scoped>\n",
              "    .dataframe tbody tr th:only-of-type {\n",
              "        vertical-align: middle;\n",
              "    }\n",
              "\n",
              "    .dataframe tbody tr th {\n",
              "        vertical-align: top;\n",
              "    }\n",
              "\n",
              "    .dataframe thead th {\n",
              "        text-align: right;\n",
              "    }\n",
              "</style>\n",
              "<table border=\"1\" class=\"dataframe\">\n",
              "  <thead>\n",
              "    <tr style=\"text-align: right;\">\n",
              "      <th></th>\n",
              "      <th>Sexo</th>\n",
              "      <th>Categoria</th>\n",
              "      <th>Tempo Final</th>\n",
              "      <th>Ritmo</th>\n",
              "      <th>Distancia</th>\n",
              "    </tr>\n",
              "  </thead>\n",
              "  <tbody>\n",
              "    <tr>\n",
              "      <th>0</th>\n",
              "      <td>Masculino</td>\n",
              "      <td>5K-GM</td>\n",
              "      <td>0:15:56.07</td>\n",
              "      <td>03:11</td>\n",
              "      <td>5</td>\n",
              "    </tr>\n",
              "    <tr>\n",
              "      <th>1</th>\n",
              "      <td>Masculino</td>\n",
              "      <td>5K-GM</td>\n",
              "      <td>0:15:57.92</td>\n",
              "      <td>03:11</td>\n",
              "      <td>5</td>\n",
              "    </tr>\n",
              "    <tr>\n",
              "      <th>2</th>\n",
              "      <td>Masculino</td>\n",
              "      <td>5K-GM</td>\n",
              "      <td>0:16:08.06</td>\n",
              "      <td>03:14</td>\n",
              "      <td>5</td>\n",
              "    </tr>\n",
              "    <tr>\n",
              "      <th>3</th>\n",
              "      <td>Masculino</td>\n",
              "      <td>5K-GM</td>\n",
              "      <td>0:16:14.83</td>\n",
              "      <td>03:15</td>\n",
              "      <td>5</td>\n",
              "    </tr>\n",
              "    <tr>\n",
              "      <th>4</th>\n",
              "      <td>Masculino</td>\n",
              "      <td>5K-GM</td>\n",
              "      <td>0:16:30.94</td>\n",
              "      <td>03:18</td>\n",
              "      <td>5</td>\n",
              "    </tr>\n",
              "  </tbody>\n",
              "</table>\n",
              "</div>\n",
              "    <div class=\"colab-df-buttons\">\n",
              "\n",
              "  <div class=\"colab-df-container\">\n",
              "    <button class=\"colab-df-convert\" onclick=\"convertToInteractive('df-afcddb5c-3871-40e5-a42c-9b0907ffe725')\"\n",
              "            title=\"Convert this dataframe to an interactive table.\"\n",
              "            style=\"display:none;\">\n",
              "\n",
              "  <svg xmlns=\"http://www.w3.org/2000/svg\" height=\"24px\" viewBox=\"0 -960 960 960\">\n",
              "    <path d=\"M120-120v-720h720v720H120Zm60-500h600v-160H180v160Zm220 220h160v-160H400v160Zm0 220h160v-160H400v160ZM180-400h160v-160H180v160Zm440 0h160v-160H620v160ZM180-180h160v-160H180v160Zm440 0h160v-160H620v160Z\"/>\n",
              "  </svg>\n",
              "    </button>\n",
              "\n",
              "  <style>\n",
              "    .colab-df-container {\n",
              "      display:flex;\n",
              "      gap: 12px;\n",
              "    }\n",
              "\n",
              "    .colab-df-convert {\n",
              "      background-color: #E8F0FE;\n",
              "      border: none;\n",
              "      border-radius: 50%;\n",
              "      cursor: pointer;\n",
              "      display: none;\n",
              "      fill: #1967D2;\n",
              "      height: 32px;\n",
              "      padding: 0 0 0 0;\n",
              "      width: 32px;\n",
              "    }\n",
              "\n",
              "    .colab-df-convert:hover {\n",
              "      background-color: #E2EBFA;\n",
              "      box-shadow: 0px 1px 2px rgba(60, 64, 67, 0.3), 0px 1px 3px 1px rgba(60, 64, 67, 0.15);\n",
              "      fill: #174EA6;\n",
              "    }\n",
              "\n",
              "    .colab-df-buttons div {\n",
              "      margin-bottom: 4px;\n",
              "    }\n",
              "\n",
              "    [theme=dark] .colab-df-convert {\n",
              "      background-color: #3B4455;\n",
              "      fill: #D2E3FC;\n",
              "    }\n",
              "\n",
              "    [theme=dark] .colab-df-convert:hover {\n",
              "      background-color: #434B5C;\n",
              "      box-shadow: 0px 1px 3px 1px rgba(0, 0, 0, 0.15);\n",
              "      filter: drop-shadow(0px 1px 2px rgba(0, 0, 0, 0.3));\n",
              "      fill: #FFFFFF;\n",
              "    }\n",
              "  </style>\n",
              "\n",
              "    <script>\n",
              "      const buttonEl =\n",
              "        document.querySelector('#df-afcddb5c-3871-40e5-a42c-9b0907ffe725 button.colab-df-convert');\n",
              "      buttonEl.style.display =\n",
              "        google.colab.kernel.accessAllowed ? 'block' : 'none';\n",
              "\n",
              "      async function convertToInteractive(key) {\n",
              "        const element = document.querySelector('#df-afcddb5c-3871-40e5-a42c-9b0907ffe725');\n",
              "        const dataTable =\n",
              "          await google.colab.kernel.invokeFunction('convertToInteractive',\n",
              "                                                    [key], {});\n",
              "        if (!dataTable) return;\n",
              "\n",
              "        const docLinkHtml = 'Like what you see? Visit the ' +\n",
              "          '<a target=\"_blank\" href=https://colab.research.google.com/notebooks/data_table.ipynb>data table notebook</a>'\n",
              "          + ' to learn more about interactive tables.';\n",
              "        element.innerHTML = '';\n",
              "        dataTable['output_type'] = 'display_data';\n",
              "        await google.colab.output.renderOutput(dataTable, element);\n",
              "        const docLink = document.createElement('div');\n",
              "        docLink.innerHTML = docLinkHtml;\n",
              "        element.appendChild(docLink);\n",
              "      }\n",
              "    </script>\n",
              "  </div>\n",
              "\n",
              "\n",
              "<div id=\"df-5a02901b-ef03-4b6c-abe5-f7d88935be7e\">\n",
              "  <button class=\"colab-df-quickchart\" onclick=\"quickchart('df-5a02901b-ef03-4b6c-abe5-f7d88935be7e')\"\n",
              "            title=\"Suggest charts\"\n",
              "            style=\"display:none;\">\n",
              "\n",
              "<svg xmlns=\"http://www.w3.org/2000/svg\" height=\"24px\"viewBox=\"0 0 24 24\"\n",
              "     width=\"24px\">\n",
              "    <g>\n",
              "        <path d=\"M19 3H5c-1.1 0-2 .9-2 2v14c0 1.1.9 2 2 2h14c1.1 0 2-.9 2-2V5c0-1.1-.9-2-2-2zM9 17H7v-7h2v7zm4 0h-2V7h2v10zm4 0h-2v-4h2v4z\"/>\n",
              "    </g>\n",
              "</svg>\n",
              "  </button>\n",
              "\n",
              "<style>\n",
              "  .colab-df-quickchart {\n",
              "      --bg-color: #E8F0FE;\n",
              "      --fill-color: #1967D2;\n",
              "      --hover-bg-color: #E2EBFA;\n",
              "      --hover-fill-color: #174EA6;\n",
              "      --disabled-fill-color: #AAA;\n",
              "      --disabled-bg-color: #DDD;\n",
              "  }\n",
              "\n",
              "  [theme=dark] .colab-df-quickchart {\n",
              "      --bg-color: #3B4455;\n",
              "      --fill-color: #D2E3FC;\n",
              "      --hover-bg-color: #434B5C;\n",
              "      --hover-fill-color: #FFFFFF;\n",
              "      --disabled-bg-color: #3B4455;\n",
              "      --disabled-fill-color: #666;\n",
              "  }\n",
              "\n",
              "  .colab-df-quickchart {\n",
              "    background-color: var(--bg-color);\n",
              "    border: none;\n",
              "    border-radius: 50%;\n",
              "    cursor: pointer;\n",
              "    display: none;\n",
              "    fill: var(--fill-color);\n",
              "    height: 32px;\n",
              "    padding: 0;\n",
              "    width: 32px;\n",
              "  }\n",
              "\n",
              "  .colab-df-quickchart:hover {\n",
              "    background-color: var(--hover-bg-color);\n",
              "    box-shadow: 0 1px 2px rgba(60, 64, 67, 0.3), 0 1px 3px 1px rgba(60, 64, 67, 0.15);\n",
              "    fill: var(--button-hover-fill-color);\n",
              "  }\n",
              "\n",
              "  .colab-df-quickchart-complete:disabled,\n",
              "  .colab-df-quickchart-complete:disabled:hover {\n",
              "    background-color: var(--disabled-bg-color);\n",
              "    fill: var(--disabled-fill-color);\n",
              "    box-shadow: none;\n",
              "  }\n",
              "\n",
              "  .colab-df-spinner {\n",
              "    border: 2px solid var(--fill-color);\n",
              "    border-color: transparent;\n",
              "    border-bottom-color: var(--fill-color);\n",
              "    animation:\n",
              "      spin 1s steps(1) infinite;\n",
              "  }\n",
              "\n",
              "  @keyframes spin {\n",
              "    0% {\n",
              "      border-color: transparent;\n",
              "      border-bottom-color: var(--fill-color);\n",
              "      border-left-color: var(--fill-color);\n",
              "    }\n",
              "    20% {\n",
              "      border-color: transparent;\n",
              "      border-left-color: var(--fill-color);\n",
              "      border-top-color: var(--fill-color);\n",
              "    }\n",
              "    30% {\n",
              "      border-color: transparent;\n",
              "      border-left-color: var(--fill-color);\n",
              "      border-top-color: var(--fill-color);\n",
              "      border-right-color: var(--fill-color);\n",
              "    }\n",
              "    40% {\n",
              "      border-color: transparent;\n",
              "      border-right-color: var(--fill-color);\n",
              "      border-top-color: var(--fill-color);\n",
              "    }\n",
              "    60% {\n",
              "      border-color: transparent;\n",
              "      border-right-color: var(--fill-color);\n",
              "    }\n",
              "    80% {\n",
              "      border-color: transparent;\n",
              "      border-right-color: var(--fill-color);\n",
              "      border-bottom-color: var(--fill-color);\n",
              "    }\n",
              "    90% {\n",
              "      border-color: transparent;\n",
              "      border-bottom-color: var(--fill-color);\n",
              "    }\n",
              "  }\n",
              "</style>\n",
              "\n",
              "  <script>\n",
              "    async function quickchart(key) {\n",
              "      const quickchartButtonEl =\n",
              "        document.querySelector('#' + key + ' button');\n",
              "      quickchartButtonEl.disabled = true;  // To prevent multiple clicks.\n",
              "      quickchartButtonEl.classList.add('colab-df-spinner');\n",
              "      try {\n",
              "        const charts = await google.colab.kernel.invokeFunction(\n",
              "            'suggestCharts', [key], {});\n",
              "      } catch (error) {\n",
              "        console.error('Error during call to suggestCharts:', error);\n",
              "      }\n",
              "      quickchartButtonEl.classList.remove('colab-df-spinner');\n",
              "      quickchartButtonEl.classList.add('colab-df-quickchart-complete');\n",
              "    }\n",
              "    (() => {\n",
              "      let quickchartButtonEl =\n",
              "        document.querySelector('#df-5a02901b-ef03-4b6c-abe5-f7d88935be7e button');\n",
              "      quickchartButtonEl.style.display =\n",
              "        google.colab.kernel.accessAllowed ? 'block' : 'none';\n",
              "    })();\n",
              "  </script>\n",
              "</div>\n",
              "\n",
              "    </div>\n",
              "  </div>\n"
            ],
            "application/vnd.google.colaboratory.intrinsic+json": {
              "type": "dataframe",
              "variable_name": "df",
              "summary": "{\n  \"name\": \"df\",\n  \"rows\": 2879,\n  \"fields\": [\n    {\n      \"column\": \"Sexo\",\n      \"properties\": {\n        \"dtype\": \"category\",\n        \"num_unique_values\": 2,\n        \"samples\": [\n          \"Feminino\",\n          \"Masculino\"\n        ],\n        \"semantic_type\": \"\",\n        \"description\": \"\"\n      }\n    },\n    {\n      \"column\": \"Categoria\",\n      \"properties\": {\n        \"dtype\": \"category\",\n        \"num_unique_values\": 24,\n        \"samples\": [\n          \"50-54\",\n          \"10K-GM\"\n        ],\n        \"semantic_type\": \"\",\n        \"description\": \"\"\n      }\n    },\n    {\n      \"column\": \"Tempo Final\",\n      \"properties\": {\n        \"dtype\": \"object\",\n        \"num_unique_values\": 2874,\n        \"samples\": [\n          \"0:36:56.39\",\n          \"1:12:51.54\"\n        ],\n        \"semantic_type\": \"\",\n        \"description\": \"\"\n      }\n    },\n    {\n      \"column\": \"Ritmo\",\n      \"properties\": {\n        \"dtype\": \"category\",\n        \"num_unique_values\": 437,\n        \"samples\": [\n          \"04:25\",\n          \"05:32\"\n        ],\n        \"semantic_type\": \"\",\n        \"description\": \"\"\n      }\n    },\n    {\n      \"column\": \"Distancia\",\n      \"properties\": {\n        \"dtype\": \"number\",\n        \"std\": 5,\n        \"min\": 5,\n        \"max\": 21,\n        \"num_unique_values\": 3,\n        \"samples\": [\n          5,\n          10\n        ],\n        \"semantic_type\": \"\",\n        \"description\": \"\"\n      }\n    }\n  ]\n}"
            }
          },
          "metadata": {},
          "execution_count": 6
        }
      ]
    },
    {
      "cell_type": "code",
      "source": [
        "# Verificando informações sobre o DataFrame\n",
        "df.info()"
      ],
      "metadata": {
        "colab": {
          "base_uri": "https://localhost:8080/"
        },
        "id": "QSI1VEeADiCE",
        "outputId": "679d90cc-7e4b-44fa-c53a-3082efa9702c"
      },
      "execution_count": 7,
      "outputs": [
        {
          "output_type": "stream",
          "name": "stdout",
          "text": [
            "<class 'pandas.core.frame.DataFrame'>\n",
            "RangeIndex: 2879 entries, 0 to 2878\n",
            "Data columns (total 5 columns):\n",
            " #   Column       Non-Null Count  Dtype \n",
            "---  ------       --------------  ----- \n",
            " 0   Sexo         2878 non-null   object\n",
            " 1   Categoria    2878 non-null   object\n",
            " 2   Tempo Final  2879 non-null   object\n",
            " 3   Ritmo        2879 non-null   object\n",
            " 4   Distancia    2879 non-null   int64 \n",
            "dtypes: int64(1), object(4)\n",
            "memory usage: 112.6+ KB\n"
          ]
        }
      ]
    },
    {
      "cell_type": "code",
      "source": [
        "#checar valores nulos\n",
        "df.isnull().sum()"
      ],
      "metadata": {
        "colab": {
          "base_uri": "https://localhost:8080/",
          "height": 241
        },
        "id": "LGVqECozB6nV",
        "outputId": "50c94fdc-d1a5-431b-d903-6c0e6dd6611c"
      },
      "execution_count": 8,
      "outputs": [
        {
          "output_type": "execute_result",
          "data": {
            "text/plain": [
              "Sexo           1\n",
              "Categoria      1\n",
              "Tempo Final    0\n",
              "Ritmo          0\n",
              "Distancia      0\n",
              "dtype: int64"
            ],
            "text/html": [
              "<div>\n",
              "<style scoped>\n",
              "    .dataframe tbody tr th:only-of-type {\n",
              "        vertical-align: middle;\n",
              "    }\n",
              "\n",
              "    .dataframe tbody tr th {\n",
              "        vertical-align: top;\n",
              "    }\n",
              "\n",
              "    .dataframe thead th {\n",
              "        text-align: right;\n",
              "    }\n",
              "</style>\n",
              "<table border=\"1\" class=\"dataframe\">\n",
              "  <thead>\n",
              "    <tr style=\"text-align: right;\">\n",
              "      <th></th>\n",
              "      <th>0</th>\n",
              "    </tr>\n",
              "  </thead>\n",
              "  <tbody>\n",
              "    <tr>\n",
              "      <th>Sexo</th>\n",
              "      <td>1</td>\n",
              "    </tr>\n",
              "    <tr>\n",
              "      <th>Categoria</th>\n",
              "      <td>1</td>\n",
              "    </tr>\n",
              "    <tr>\n",
              "      <th>Tempo Final</th>\n",
              "      <td>0</td>\n",
              "    </tr>\n",
              "    <tr>\n",
              "      <th>Ritmo</th>\n",
              "      <td>0</td>\n",
              "    </tr>\n",
              "    <tr>\n",
              "      <th>Distancia</th>\n",
              "      <td>0</td>\n",
              "    </tr>\n",
              "  </tbody>\n",
              "</table>\n",
              "</div><br><label><b>dtype:</b> int64</label>"
            ]
          },
          "metadata": {},
          "execution_count": 8
        }
      ]
    },
    {
      "cell_type": "code",
      "source": [
        "# Limpeza básica de dados (removendo linhas com valores faltantes)\n",
        "df.dropna(inplace=True)"
      ],
      "metadata": {
        "id": "4KE2peKkDzaE"
      },
      "execution_count": 9,
      "outputs": []
    },
    {
      "cell_type": "code",
      "source": [
        "df.info()"
      ],
      "metadata": {
        "colab": {
          "base_uri": "https://localhost:8080/"
        },
        "id": "Vw-_8FGwEGGt",
        "outputId": "75f75813-9ac4-4542-c6a0-4123251f2ca8"
      },
      "execution_count": 10,
      "outputs": [
        {
          "output_type": "stream",
          "name": "stdout",
          "text": [
            "<class 'pandas.core.frame.DataFrame'>\n",
            "Index: 2878 entries, 0 to 2878\n",
            "Data columns (total 5 columns):\n",
            " #   Column       Non-Null Count  Dtype \n",
            "---  ------       --------------  ----- \n",
            " 0   Sexo         2878 non-null   object\n",
            " 1   Categoria    2878 non-null   object\n",
            " 2   Tempo Final  2878 non-null   object\n",
            " 3   Ritmo        2878 non-null   object\n",
            " 4   Distancia    2878 non-null   int64 \n",
            "dtypes: int64(1), object(4)\n",
            "memory usage: 134.9+ KB\n"
          ]
        }
      ]
    },
    {
      "cell_type": "code",
      "source": [
        "#checar novamente valores nulos\n",
        "df.isnull().sum()"
      ],
      "metadata": {
        "colab": {
          "base_uri": "https://localhost:8080/",
          "height": 241
        },
        "id": "g_lkyA7vESDN",
        "outputId": "1a4fb235-cfcf-46bc-999d-b05a1ecbe1d3"
      },
      "execution_count": 11,
      "outputs": [
        {
          "output_type": "execute_result",
          "data": {
            "text/plain": [
              "Sexo           0\n",
              "Categoria      0\n",
              "Tempo Final    0\n",
              "Ritmo          0\n",
              "Distancia      0\n",
              "dtype: int64"
            ],
            "text/html": [
              "<div>\n",
              "<style scoped>\n",
              "    .dataframe tbody tr th:only-of-type {\n",
              "        vertical-align: middle;\n",
              "    }\n",
              "\n",
              "    .dataframe tbody tr th {\n",
              "        vertical-align: top;\n",
              "    }\n",
              "\n",
              "    .dataframe thead th {\n",
              "        text-align: right;\n",
              "    }\n",
              "</style>\n",
              "<table border=\"1\" class=\"dataframe\">\n",
              "  <thead>\n",
              "    <tr style=\"text-align: right;\">\n",
              "      <th></th>\n",
              "      <th>0</th>\n",
              "    </tr>\n",
              "  </thead>\n",
              "  <tbody>\n",
              "    <tr>\n",
              "      <th>Sexo</th>\n",
              "      <td>0</td>\n",
              "    </tr>\n",
              "    <tr>\n",
              "      <th>Categoria</th>\n",
              "      <td>0</td>\n",
              "    </tr>\n",
              "    <tr>\n",
              "      <th>Tempo Final</th>\n",
              "      <td>0</td>\n",
              "    </tr>\n",
              "    <tr>\n",
              "      <th>Ritmo</th>\n",
              "      <td>0</td>\n",
              "    </tr>\n",
              "    <tr>\n",
              "      <th>Distancia</th>\n",
              "      <td>0</td>\n",
              "    </tr>\n",
              "  </tbody>\n",
              "</table>\n",
              "</div><br><label><b>dtype:</b> int64</label>"
            ]
          },
          "metadata": {},
          "execution_count": 11
        }
      ]
    },
    {
      "cell_type": "markdown",
      "source": [
        "##2. 📊 Perfil dos participantes por sexo e distância 📊\n",
        "Agora vamos gerar tabelas de frequência para mostrar a distribuição de homens e mulheres em cada distância.\n",
        "\n",
        "Também iremos criar gráficos para visualizar essa distribuição."
      ],
      "metadata": {
        "id": "QKOGfdziEqnv"
      }
    },
    {
      "source": [
        "# Tabelas de frequência\n",
        "print(\"Frequência por Sexo e Distância:\")\n",
        "print(pd.crosstab(df['Sexo'], df['Distancia']))\n",
        "\n",
        "# Gráficos de barras\n",
        "dist_cont = df.groupby(['Sexo', 'Distancia'])['Tempo Final'].count().unstack()\n",
        "dist_cont.plot(kind='bar', figsize=(8, 6))\n",
        "plt.title('Número de Participantes por Sexo e Distância')\n",
        "plt.xlabel('Sexo')\n",
        "plt.ylabel('Número de Participantes')\n",
        "plt.xticks(rotation=0)\n",
        "plt.legend(title='Distância')\n",
        "plt.show()\n",
        "\n",
        "# Teste de proporção para verificar se a frequência é a mesma nas três distâncias\n",
        "# Usando chi2_contingency para teste de independência\n",
        "# Criamos uma tabela de contingência\n",
        "contingency_table = pd.crosstab(df['Sexo'], df['Distancia'])\n",
        "\n",
        "# Aplicação do teste Qui-quadrado\n",
        "chi2, p, dof, expected = chi2_contingency(contingency_table)\n",
        "\n",
        "print(f\"\\nTeste Qui-quadrado para a igualdade de frequência:\")\n",
        "print(f\"Qui-quadrado: {chi2:.2f}\")\n",
        "print(f\"p-valor: {p:.3f}\")\n",
        "print(f\"grau de liberade: {dof:.1f}\")\n",
        "\n",
        "alpha = 0.05 # Nível de significância\n",
        "if p < alpha:\n",
        "  print(\"A frequência de homens e mulheres nas três distâncias NÃO é a mesma.\")\n",
        "else:\n",
        "  print(\"A frequência de homens e mulheres nas três distâncias é a mesma (não há evidência suficiente para rejeitar a hipótese nula).\")"
      ],
      "cell_type": "code",
      "metadata": {
        "colab": {
          "base_uri": "https://localhost:8080/",
          "height": 765
        },
        "id": "GgMtCk4yIA69",
        "outputId": "ffa76514-acc8-48e2-92a2-c367f742874d"
      },
      "execution_count": 12,
      "outputs": [
        {
          "output_type": "stream",
          "name": "stdout",
          "text": [
            "Frequência por Sexo e Distância:\n",
            "Distancia   5    10   21\n",
            "Sexo                    \n",
            "Feminino   707  437  114\n",
            "Masculino  512  644  464\n"
          ]
        },
        {
          "output_type": "display_data",
          "data": {
            "text/plain": [
              "<Figure size 800x600 with 1 Axes>"
            ],
            "image/png": "[encoded data removed]"
          },
          "metadata": {}
        },
        {
          "output_type": "stream",
          "name": "stdout",
          "text": [
            "\n",
            "Teste Qui-quadrado para a igualdade de frequência:\n",
            "Qui-quadrado: 241.05\n",
            "p-valor: 0.000\n",
            "grau de liberade: 2.0\n",
            "A frequência de homens e mulheres nas três distâncias NÃO é a mesma.\n"
          ]
        }
      ]
    },
    {
      "cell_type": "markdown",
      "source": [
        "### No teste Qui-quadrado aplicado à análise da frequência de homens e mulheres nas três distâncias da corrida, as hipóteses são:\n",
        "\n",
        "* **Hipótese Nula (H0):** A frequência de homens e mulheres é a mesma em todas as três distâncias (5km, 10km e 21km).  Em outras palavras, não há associação entre o sexo do participante e a distância percorrida.\n",
        "\n",
        "* **Hipótese Alternativa (H1):** A frequência de homens e mulheres *não* é a mesma em todas as três distâncias.  Existe uma associação entre o sexo do participante e a distância percorrida.\n",
        "\n",
        "\n",
        "O resultado do teste (p-valor próximo de zero) nos leva a rejeitar a hipótese nula e aceitar a hipótese alternativa, indicando que há uma relação entre o sexo do corredor e a distância que ele escolheu correr.\n"
      ],
      "metadata": {
        "id": "M9TMk_IgJ2xE"
      }
    },
    {
      "cell_type": "markdown",
      "source": [
        "## 3. 📈 Regressão Linear para estimar o tempo total em função do ritmo\n",
        "\n",
        "Agora vamos transformar os dados de tempo para minutos, realizar uma regressão linear simples com o ritmo como variável preditora e o tempo total como variável dependente, e avaliar a qualidade do modelo.  Para isso, seguem os passos abaixo:\n",
        "\n",
        "* **Conversão do tempo para minutos:** A coluna \"Tempo Final\" que está em formato `hh:mm:ss.ms` precisa ser convertida para minutos para facilitar o cálculo da regressão linear.  Uma função será criada para essa conversão.\n",
        "\n",
        "* **Definição das variáveis:** A variável independente (X) será o \"Ritmo\" (min/km) e a variável dependente (y) será o \"Tempo Final (minutos)\".\n",
        "\n",
        "* **Divisão dos dados:** Os dados serão divididos em conjuntos de treinamento e teste usando `train_test_split` do scikit-learn. Isso permite avaliar o desempenho do modelo em dados não vistos durante o treinamento.\n",
        "\n",
        "* **Treinamento do modelo:** Um modelo de regressão linear (`LinearRegression`) será treinado usando os dados de treinamento.\n",
        "\n",
        "* **Previsões:** O modelo treinado fará previsões do tempo final para o conjunto de teste.\n",
        "\n",
        "* **Avaliação do modelo:** A qualidade do modelo será avaliada usando o erro quadrático médio (MSE) e o coeficiente de determinação (R²).  O MSE mede a média dos quadrados das diferenças entre os valores reais e os valores previstos. O R² indica a proporção da variância da variável dependente que é explicada pelo modelo.\n",
        "\n",
        "* **Visualização:** Um gráfico de dispersão mostrará os dados reais e a reta de regressão, permitindo uma visualização da relação entre o ritmo e o tempo final."
      ],
      "metadata": {
        "id": "k5eIJ64XKqJ1"
      }
    },
    {
      "cell_type": "code",
      "source": [
        "# função para converter a coluna \"Tempo Final\" do dataframe de para minutos.\n",
        "def converter_tempo_para_minutos(tempo_str):\n",
        "  try:\n",
        "    horas, minutos, segundos_milissegundos = tempo_str.split(':')\n",
        "    segundos, milissegundos = segundos_milissegundos.split('.')\n",
        "    tempo_em_minutos = int(horas) * 60 + int(minutos) + int(segundos) / 60 + int(milissegundos) / 60000\n",
        "    return tempo_em_minutos\n",
        "  except ValueError:\n",
        "    return np.nan\n",
        "\n",
        "# Aplicar a função de conversão à coluna 'Tempo Final'\n",
        "df['Tempo Final (minutos)'] = df['Tempo Final'].apply(converter_tempo_para_minutos)\n",
        "\n",
        "# Exibir as primeiras linhas do DataFrame com a nova coluna\n",
        "print(df.head())"
      ],
      "metadata": {
        "colab": {
          "base_uri": "https://localhost:8080/"
        },
        "id": "M9asBufSMfqG",
        "outputId": "a01e001a-6a21-4841-f5ec-f812252a20ab"
      },
      "execution_count": 13,
      "outputs": [
        {
          "output_type": "stream",
          "name": "stdout",
          "text": [
            "        Sexo Categoria Tempo Final  Ritmo  Distancia  Tempo Final (minutos)\n",
            "0  Masculino     5K-GM  0:15:56.07  03:11          5              15.933450\n",
            "1  Masculino     5K-GM  0:15:57.92  03:11          5              15.951533\n",
            "2  Masculino     5K-GM  0:16:08.06  03:14          5              16.133433\n",
            "3  Masculino     5K-GM  0:16:14.83  03:15          5              16.234717\n",
            "4  Masculino     5K-GM  0:16:30.94  03:18          5              16.501567\n"
          ]
        }
      ]
    },
    {
      "source": [
        "# Função para converter a coluna \"Ritmo\" do dataframe de para minutos.\n",
        "def converter_ritmo_para_minutos(ritmo_str):\n",
        "    try:\n",
        "        # Assuming ritmo_str is in the format 'MM:SS' or 'HH:MM'\n",
        "        # If it's 'HH:MM:SS', adjust the split accordingly\n",
        "        parts = ritmo_str.split(':')\n",
        "        if len(parts) == 2:  # Format 'MM:SS'\n",
        "            minutes, seconds = parts\n",
        "            total_minutes = int(minutes) + int(seconds) / 60\n",
        "        elif len(parts) == 3:  # Format 'HH:MM:SS'\n",
        "            hours, minutes, seconds = parts\n",
        "            total_minutes = int(hours) * 60 + int(minutes) + int(seconds) / 60\n",
        "        else:\n",
        "            return np.nan  # Handle invalid format\n",
        "        return total_minutes\n",
        "    except (ValueError, AttributeError):\n",
        "        # Handle cases where ritmo_str is not a string or has an unexpected format\n",
        "        return np.nan\n",
        "\n",
        "# Aplicar a função de conversão à coluna 'Ritmo'\n",
        "df['Ritmo (minutos)'] = df['Ritmo'].apply(converter_ritmo_para_minutos)\n"
      ],
      "cell_type": "code",
      "metadata": {
        "id": "DDDWuxqaPBK1"
      },
      "execution_count": 14,
      "outputs": []
    },
    {
      "source": [
        "# Lista para armazenar os modelos treinados para cada distancia\n",
        "models = {}\n",
        "\n",
        "# Regressão linear para cada distância separadamente\n",
        "distancias = df['Distancia'].unique()\n",
        "\n",
        "for dist in distancias:\n",
        "    # df_dist é o dataframe filtrado por distância\n",
        "    df_dist = df[df['Distancia'] == dist]\n",
        "    X = df_dist[['Ritmo (minutos)']]  # variável independente para a distância atual\n",
        "    y = df_dist['Tempo Final (minutos)']  # variável dependente para a distância atual\n",
        "    X_train, X_test, y_train, y_test = train_test_split(X, y, test_size=0.2, random_state=42)\n",
        "    model = LinearRegression()\n",
        "    model.fit(X_train, y_train)\n",
        "    # Salva o modelo treinado na lista models[]\n",
        "    models[dist] = model\n",
        "\n",
        "    y_pred = model.predict(X_test)\n",
        "    mse = mean_squared_error(y_test, y_pred)\n",
        "    r2 = r2_score(y_test, y_pred)\n",
        "\n",
        "    print(f\"\\nRegressão Linear para Distância {dist}km:\")\n",
        "    print(f\"Erro quadrático médio (MSE): {mse:.2f}\")\n",
        "    print(f\"R-quadrado (R²): {r2:.2f}\")\n",
        "\n",
        "    plt.figure(figsize=(6,4)) #cria uma nova figura para cada gráfico\n",
        "    plt.scatter(X_test, y_test, color='blue', label='Dados Reais')\n",
        "    plt.plot(X_test, y_pred, color='red', linewidth=2, label='Regressão Linear')\n",
        "    plt.title(f'Regressão Linear: Tempo Final vs. Ritmo ({dist}km)')\n",
        "    plt.xlabel('Ritmo (min/km)')\n",
        "    plt.ylabel('Tempo Final (minutos)')\n",
        "    plt.legend()\n",
        "    plt.show()"
      ],
      "cell_type": "code",
      "metadata": {
        "colab": {
          "base_uri": "https://localhost:8080/",
          "height": 1000
        },
        "id": "H8u0JtrMSiiO",
        "outputId": "2702ab3a-1da7-40d4-8056-ef330806e7bf"
      },
      "execution_count": 15,
      "outputs": [
        {
          "output_type": "stream",
          "name": "stdout",
          "text": [
            "\n",
            "Regressão Linear para Distância 5km:\n",
            "Erro quadrático médio (MSE): 0.00\n",
            "R-quadrado (R²): 1.00\n"
          ]
        },
        {
          "output_type": "display_data",
          "data": {
            "text/plain": [
              "<Figure size 600x400 with 1 Axes>"
            ],
            "image/png": "[encoded data removed]"
          },
          "metadata": {}
        },
        {
          "output_type": "stream",
          "name": "stdout",
          "text": [
            "\n",
            "Regressão Linear para Distância 10km:\n",
            "Erro quadrático médio (MSE): 1.65\n",
            "R-quadrado (R²): 0.99\n"
          ]
        },
        {
          "output_type": "display_data",
          "data": {
            "text/plain": [
              "<Figure size 600x400 with 1 Axes>"
            ],
            "image/png": "[encoded data removed]"
          },
          "metadata": {}
        },
        {
          "output_type": "stream",
          "name": "stdout",
          "text": [
            "\n",
            "Regressão Linear para Distância 21km:\n",
            "Erro quadrático médio (MSE): 0.01\n",
            "R-quadrado (R²): 1.00\n"
          ]
        },
        {
          "output_type": "display_data",
          "data": {
            "text/plain": [
              "<Figure size 600x400 with 1 Axes>"
            ],
            "image/png": "[encoded data removed]"
          },
          "metadata": {}
        }
      ]
    },
    {
      "cell_type": "markdown",
      "source": [
        "##🧮 Calculadora de Tempo de Corrida ⏱️"
      ],
      "metadata": {
        "id": "DF6p8hNtouR1"
      }
    },
    {
      "cell_type": "code",
      "source": [
        "# Widgets/Campos para entrada do usuário\n",
        "\n",
        "distancia_input = widgets.Dropdown(\n",
        "    options=distancias,\n",
        "    value=5,\n",
        "    description='Distância (km):',\n",
        "    disabled=False,\n",
        "    style={'description_width': 'initial'}, # ou um valor em pixels, como '100px'\n",
        "    layout=Layout(width='200px') # ou um valor fixo, como '200px'\n",
        ")\n",
        "\n",
        "ritmo_input = widgets.Text(\n",
        "    placeholder='Digite o ritmo (ex: 3:11)',\n",
        "    description='Ritmo:',\n",
        "    disabled=False,\n",
        "    style={'description_width': 'initial'}, # ou um valor em pixels, como '100px'\n",
        "    layout=Layout(width='200px') # ou um valor fixo, como '200px'\n",
        ")\n",
        "\n",
        "calcular_button = widgets.Button(description=\"📈 Calcular\")\n",
        "limpar_button = widgets.Button(description=\"🧹 Limpar\")\n",
        "output = widgets.Output()\n",
        "\n",
        "# Funções para o botâo calcular e limpar\n",
        "def on_calcular_button_clicked(b):\n",
        "    with output:\n",
        "        clear_output()\n",
        "        try:\n",
        "            ritmo_str = ritmo_input.value\n",
        "            minutos, segundos = map(float, ritmo_str.split(':'))\n",
        "            ritmo = minutos + segundos / 60\n",
        "            distancia = distancia_input.value\n",
        "            model = models.get(distancia)\n",
        "            if model:\n",
        "                tempo_minutos = model.predict(pd.DataFrame({\"Ritmo (minutos)\": [ritmo]}))[0]\n",
        "                tempo_total_segundos = int(round(tempo_minutos * 60))\n",
        "                tempo_horas = tempo_total_segundos // 3600\n",
        "                tempo_minutos = (tempo_total_segundos % 3600) // 60\n",
        "                tempo_segundos = tempo_total_segundos % 60\n",
        "\n",
        "                print(f\"Tempo estimado para {distancia}km com ritmo {ritmo_str}: {tempo_horas:02d}:{tempo_minutos:02d}:{tempo_segundos:02d}\")\n",
        "            else:\n",
        "                print(f\"Modelo não encontrado para a distância {distancia}km.\")\n",
        "        except ValueError:\n",
        "            print(\"Formato de ritmo inválido.  Use o formato mm:ss\")\n",
        "        except Exception as e:\n",
        "            print(f\"Erro: {e}\")\n",
        "\n",
        "\n",
        "def on_limpar_button_clicked(b):\n",
        "    with output:\n",
        "        clear_output()\n",
        "        ritmo_input.value = ''"
      ],
      "metadata": {
        "id": "D9XQ3EBJoitq"
      },
      "execution_count": 16,
      "outputs": []
    },
    {
      "cell_type": "code",
      "source": [
        "# Associa a função on_calcular_button_clicked ao evento de clique do botão calcular_button e limpar_button.\n",
        "# Sempre que os botões \"Calcular\" e \"Limpar\" fore clicados, a função será executada.\n",
        "calcular_button.on_click(on_calcular_button_clicked)\n",
        "limpar_button.on_click(on_limpar_button_clicked)\n",
        "\n",
        "# Exibe os widgets na interface do usuário.\n",
        "# Isso faz com que os elementos (campo de texto para o ritmo, menu dropdown para a distância,\n",
        "# botões \"Calcular\" e \"Limpar\", e a área de saída para exibir os resultados) sejam\n",
        "# renderizados na tela do notebook Jupyter, permitindo a interação do usuário.\n",
        "display(ritmo_input, distancia_input, calcular_button, limpar_button, output)"
      ],
      "metadata": {
        "colab": {
          "base_uri": "https://localhost:8080/",
          "height": 143,
          "referenced_widgets": [
            "2d05fa3d92f24b05b185547b73e87108",
            "a36102ab480243f9894e97d97440abe6",
            "b17d44c25675425d8b856301bf3ef1aa",
            "3998b083d475487d8ed550a21455b11d",
            "d370863f301145f9909ec4f8d380dddc",
            "ce00e6d63a5e4331afbd53888a994783",
            "e9f95354c1814de184e5364fbd5ac1ce",
            "6990f221219644ecba34b2a82ca7ad7c",
            "1ec4a8472681454a959ae8cebcb59835",
            "dfe5baa2dc9a4123beda3c347734c1dd",
            "37d26cb77f694d45a7b6e1bb09d5be50",
            "4234bdbea6d04aacaaed2ed4653d85a1",
            "a3b14732c7df432d83be137d92f4dcda",
            "fb2e993843c647cca8739a220216d9d8"
          ]
        },
        "id": "8ttOJGloyV8N",
        "outputId": "3ab21f8c-f201-48c3-a1b7-2dfad4165ffb"
      },
      "execution_count": 17,
      "outputs": [
        {
          "output_type": "display_data",
          "data": {
            "text/plain": [
              "Text(value='', description='Ritmo:', layout=Layout(width='200px'), placeholder='Digite o ritmo (ex: 3:11)', st…"
            ],
            "application/vnd.jupyter.widget-view+json": {
              "version_major": 2,
              "version_minor": 0,
              "model_id": "2d05fa3d92f24b05b185547b73e87108"
            }
          },
          "metadata": {}
        },
        {
          "output_type": "display_data",
          "data": {
            "text/plain": [
              "Dropdown(description='Distância (km):', layout=Layout(width='200px'), options=(5, 10, 21), style=DescriptionSt…"
            ],
            "application/vnd.jupyter.widget-view+json": {
              "version_major": 2,
              "version_minor": 0,
              "model_id": "3998b083d475487d8ed550a21455b11d"
            }
          },
          "metadata": {}
        },
        {
          "output_type": "display_data",
          "data": {
            "text/plain": [
              "Button(description='📈 Calcular', style=ButtonStyle())"
            ],
            "application/vnd.jupyter.widget-view+json": {
              "version_major": 2,
              "version_minor": 0,
              "model_id": "e9f95354c1814de184e5364fbd5ac1ce"
            }
          },
          "metadata": {}
        },
        {
          "output_type": "display_data",
          "data": {
            "text/plain": [
              "Button(description='🧹 Limpar', style=ButtonStyle())"
            ],
            "application/vnd.jupyter.widget-view+json": {
              "version_major": 2,
              "version_minor": 0,
              "model_id": "dfe5baa2dc9a4123beda3c347734c1dd"
            }
          },
          "metadata": {}
        },
        {
          "output_type": "display_data",
          "data": {
            "text/plain": [
              "Output()"
            ],
            "application/vnd.jupyter.widget-view+json": {
              "version_major": 2,
              "version_minor": 0,
              "model_id": "a3b14732c7df432d83be137d92f4dcda"
            }
          },
          "metadata": {}
        }
      ]
    }
  ]
}